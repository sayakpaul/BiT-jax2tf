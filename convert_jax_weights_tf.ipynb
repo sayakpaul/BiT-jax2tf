{
 "cells": [
  {
   "cell_type": "markdown",
   "metadata": {
    "colab_type": "text",
    "id": "view-in-github"
   },
   "source": [
    "<a href=\"https://colab.research.google.com/github/sayakpaul/BiT-jax2tf/blob/main/convert_jax_weights_tf.ipynb\" target=\"_parent\"><img src=\"https://colab.research.google.com/assets/colab-badge.svg\" alt=\"Open In Colab\"/></a>"
   ]
  },
  {
   "cell_type": "markdown",
   "metadata": {
    "id": "xpJr0WgojrSK"
   },
   "source": [
    "This notebook shows how to instantiate [BiT-ResNet models](https://arxiv.org/abs/1912.11370) in TensorFlow using code from the official repository [google-research/big_transfer](https://github.com/google-research/big_transfer) and load the original JAX weights into them. \n",
    "\n",
    "_**Note**: This notebook is authored by [Willi Gierke](https://ch.linkedin.com/in/willi-gierke) from Google. An initial version of the notebook was developed by Sayak Paul._"
   ]
  },
  {
   "cell_type": "code",
   "execution_count": null,
   "metadata": {
    "colab": {
     "base_uri": "https://localhost:8080/"
    },
    "id": "VjXviEYKmV0T",
    "outputId": "f2f42bf7-42ba-4b96-a63a-35a1dc6d9b70"
   },
   "outputs": [
    {
     "name": "stdout",
     "output_type": "stream",
     "text": [
      "--2021-08-25 04:33:59--  https://storage.googleapis.com/bit_models/distill/R152x2_T_384.npz\n",
      "Resolving storage.googleapis.com (storage.googleapis.com)... 64.233.170.128, 74.125.31.128, 173.194.210.128, ...\n",
      "Connecting to storage.googleapis.com (storage.googleapis.com)|64.233.170.128|:443... connected.\n",
      "HTTP request sent, awaiting response... 200 OK\n",
      "Length: 945485848 (902M) [application/octet-stream]\n",
      "Saving to: ‘R152x2_T_384.npz’\n",
      "\n",
      "R152x2_T_384.npz    100%[===================>] 901.69M  68.7MB/s    in 19s     \n",
      "\n",
      "2021-08-25 04:34:20 (46.8 MB/s) - ‘R152x2_T_384.npz’ saved [945485848/945485848]\n",
      "\n",
      "Cloning into 'big_transfer'...\n",
      "remote: Enumerating objects: 31, done.\u001b[K\n",
      "remote: Counting objects: 100% (31/31), done.\u001b[K\n",
      "remote: Compressing objects: 100% (27/27), done.\u001b[K\n",
      "remote: Total 31 (delta 1), reused 23 (delta 1), pack-reused 0\u001b[K\n",
      "Unpacking objects: 100% (31/31), done.\n"
     ]
    }
   ],
   "source": [
    "# For demonstration purposes, we will be operating with a BiT-ResNet152x2 model.\n",
    "!wget https://storage.googleapis.com/bit_models/distill/R152x2_T_384.npz\n",
    "\n",
    "!git clone --depth 1 https://github.com/google-research/big_transfer\n",
    "\n",
    "import sys\n",
    "\n",
    "sys.path.append(\"big_transfer\")\n",
    "\n",
    "from bit_tf2 import models\n",
    "import tensorflow as tf\n",
    "import numpy as np\n",
    "\n",
    "from PIL import Image\n",
    "from io import BytesIO\n",
    "import requests\n",
    "\n",
    "\n",
    "def preprocess_image(image):\n",
    "    image = np.array(image)\n",
    "    # Resize to (384, 384).\n",
    "    image_resized = tf.image.resize(image, (384, 384))\n",
    "    image_resized = tf.cast(image_resized, tf.float32)\n",
    "    image_resized = (image_resized - 127.5) / 127.5\n",
    "    return tf.expand_dims(image_resized, 0).numpy()\n",
    "\n",
    "\n",
    "def load_image_from_url(url):\n",
    "    \"\"\"Returns an image with shape [1, height, width, num_channels].\"\"\"\n",
    "    response = requests.get(url)\n",
    "    image = Image.open(BytesIO(response.content))\n",
    "    image = preprocess_image(image)\n",
    "    return image\n",
    "\n",
    "\n",
    "def assert_valid_variables(model):\n",
    "    \"\"\"Raises an error if a weight only contains 0. or 1.\"\"\"\n",
    "    for i, layer in enumerate(model.layers):\n",
    "        print(f\"Layer {i}: {layer.name}\")\n",
    "        if not \"layers\" in dir(layer):\n",
    "            print(f\"{layer.name} has no .layers\")\n",
    "            continue\n",
    "        for j, sublayer in enumerate(layer.layers):\n",
    "            print(f\"Sublayer {j}: {sublayer.name}\")\n",
    "            for w in sublayer.get_weights():\n",
    "                print(w.shape)\n",
    "                if (w == 1.0).all() or (w == 0.0).all():\n",
    "                    raise RuntimeError(f\"PROBLEM in {layer.name}.{sublayer.name}: {w}\")"
   ]
  },
  {
   "cell_type": "code",
   "execution_count": null,
   "metadata": {
    "colab": {
     "base_uri": "https://localhost:8080/"
    },
    "id": "S0xpekbRme1V",
    "outputId": "c6792e63-7e54-43f2-acf7-54dbc277473e"
   },
   "outputs": [
    {
     "name": "stdout",
     "output_type": "stream",
     "text": [
      "--2021-08-25 04:34:29--  https://storage.googleapis.com/bit_models/ilsvrc2012_wordnet_lemmas.txt\n",
      "Resolving storage.googleapis.com (storage.googleapis.com)... 172.217.204.128, 172.217.203.128, 173.194.213.128, ...\n",
      "Connecting to storage.googleapis.com (storage.googleapis.com)|172.217.204.128|:443... connected.\n",
      "HTTP request sent, awaiting response... 200 OK\n",
      "Length: 21675 (21K) [text/plain]\n",
      "Saving to: ‘ilsvrc2012_wordnet_lemmas.txt’\n",
      "\n",
      "ilsvrc2012_wordnet_ 100%[===================>]  21.17K  --.-KB/s    in 0s      \n",
      "\n",
      "2021-08-25 04:34:29 (112 MB/s) - ‘ilsvrc2012_wordnet_lemmas.txt’ saved [21675/21675]\n",
      "\n",
      "Model: \"resnet\"\n",
      "_________________________________________________________________\n",
      "Layer (type)                 Output Shape              Param #   \n",
      "=================================================================\n",
      "root_block (Sequential)      (None, 96, 96, 128)       18816     \n",
      "_________________________________________________________________\n",
      "block1 (Sequential)          (None, 96, 96, 512)       855808    \n",
      "_________________________________________________________________\n",
      "block2 (Sequential)          (None, 48, 48, 1024)      9329664   \n",
      "_________________________________________________________________\n",
      "block3 (Sequential)          (None, 24, 24, 2048)      162224128 \n",
      "_________________________________________________________________\n",
      "block4 (Sequential)          (None, 12, 12, 4096)      59801600  \n",
      "_________________________________________________________________\n",
      "group_norm (GroupNormalizati multiple                  8192      \n",
      "_________________________________________________________________\n",
      "re_lu_150 (ReLU)             multiple                  0         \n",
      "_________________________________________________________________\n",
      "global_average_pooling2d (Gl multiple                  0         \n",
      "_________________________________________________________________\n",
      "head/dense (Dense)           multiple                  4097000   \n",
      "=================================================================\n",
      "Total params: 236,335,208\n",
      "Trainable params: 236,335,208\n",
      "Non-trainable params: 0\n",
      "_________________________________________________________________\n"
     ]
    }
   ],
   "source": [
    "# Load the labels.\n",
    "!wget https://storage.googleapis.com/bit_models/ilsvrc2012_wordnet_lemmas.txt\n",
    "\n",
    "with open(\"ilsvrc2012_wordnet_lemmas.txt\", \"r\") as f:\n",
    "    lines = f.readlines()\n",
    "imagenet_int_to_str = [line.rstrip() for line in lines]\n",
    "\n",
    "# Load image (image provided is CC0 licensed)\n",
    "img_url = \"https://p0.pikrepo.com/preview/853/907/close-up-photo-of-gray-elephant.jpg\"\n",
    "image = load_image_from_url(img_url)\n",
    "\n",
    "model = models.ResnetV2(\n",
    "    num_units=(3, 8, 36, 3),\n",
    "    num_outputs=1000,\n",
    "    filters_factor=8,\n",
    "    name=\"resnet\",\n",
    "    trainable=True,\n",
    "    dtype=tf.float32,\n",
    ")\n",
    "\n",
    "model.build((None, 384, 384, 3))\n",
    "model.summary()\n",
    "\n",
    "# Print smaller numpy arrays.\n",
    "np.set_printoptions(threshold=3, edgeitems=1)"
   ]
  },
  {
   "cell_type": "code",
   "execution_count": null,
   "metadata": {
    "id": "qC2XOUbPmZ_I"
   },
   "outputs": [],
   "source": [
    "# Load the weights.\n",
    "with open(\"R152x2_T_384.npz\", \"rb\") as f:\n",
    "    params_tf = np.load(f)\n",
    "    params_tf = dict(zip(params_tf.keys(), params_tf.values()))"
   ]
  },
  {
   "cell_type": "code",
   "execution_count": null,
   "metadata": {
    "id": "gvGqDZcnmg3D"
   },
   "outputs": [],
   "source": [
    "# Assign the weights of each block to the matching TF variables. Check params_tf for details.\n",
    "units_by_block_nr = {1: 3, 2: 8, 3: 36, 4: 3}\n",
    "\n",
    "for block_nr, units in units_by_block_nr.items():\n",
    "    for unit_nr in range(units):\n",
    "        model.layers[block_nr].layers[unit_nr]._unit_a.layers[0]._beta.assign(\n",
    "            tf.Variable(\n",
    "                params_tf[\n",
    "                    f\"resnet/block{block_nr}/unit{unit_nr + 1:02d}/a/group_norm/beta\"\n",
    "                ]\n",
    "            )\n",
    "        )\n",
    "        model.layers[block_nr].layers[unit_nr]._unit_a.layers[0]._gamma.assign(\n",
    "            tf.Variable(\n",
    "                params_tf[\n",
    "                    f\"resnet/block{block_nr}/unit{unit_nr + 1:02d}/a/group_norm/gamma\"\n",
    "                ]\n",
    "            )\n",
    "        )\n",
    "        var_name = (\n",
    "            f\"resnet/block{block_nr}/unit{unit_nr + 1:02d}/a/standardized_conv2d/kernel\"\n",
    "        )\n",
    "        if var_name in params_tf:\n",
    "            model.layers[block_nr].layers[unit_nr]._unit_a_conv.kernel.assign(\n",
    "                tf.Variable(params_tf[var_name])\n",
    "            )\n",
    "\n",
    "        var_name = f\"resnet/block{block_nr}/unit{unit_nr + 1:02d}/a/proj/standardized_conv2d/kernel\"\n",
    "        if var_name in params_tf:\n",
    "            model.layers[block_nr].layers[unit_nr]._proj.kernel.assign(\n",
    "                tf.Variable(params_tf[var_name])\n",
    "            )\n",
    "\n",
    "        model.layers[block_nr].layers[unit_nr]._unit_b.layers[0]._beta.assign(\n",
    "            tf.Variable(\n",
    "                params_tf[\n",
    "                    f\"resnet/block{block_nr}/unit{unit_nr + 1:02d}/b/group_norm/beta\"\n",
    "                ]\n",
    "            )\n",
    "        )\n",
    "        model.layers[block_nr].layers[unit_nr]._unit_b.layers[0]._gamma.assign(\n",
    "            tf.Variable(\n",
    "                params_tf[\n",
    "                    f\"resnet/block{block_nr}/unit{unit_nr + 1:02d}/b/group_norm/gamma\"\n",
    "                ]\n",
    "            )\n",
    "        )\n",
    "        var_name = (\n",
    "            f\"resnet/block{block_nr}/unit{unit_nr + 1:02d}/b/standardized_conv2d/kernel\"\n",
    "        )\n",
    "        if var_name in params_tf:\n",
    "            model.layers[block_nr].layers[unit_nr]._unit_b.layers[-1].kernel.assign(\n",
    "                tf.Variable(params_tf[var_name])\n",
    "            )\n",
    "\n",
    "        model.layers[block_nr].layers[unit_nr]._unit_c.layers[0]._beta.assign(\n",
    "            tf.Variable(\n",
    "                params_tf[\n",
    "                    f\"resnet/block{block_nr}/unit{unit_nr + 1:02d}/c/group_norm/beta\"\n",
    "                ]\n",
    "            )\n",
    "        )\n",
    "        model.layers[block_nr].layers[unit_nr]._unit_c.layers[0]._gamma.assign(\n",
    "            tf.Variable(\n",
    "                params_tf[\n",
    "                    f\"resnet/block{block_nr}/unit{unit_nr + 1:02d}/c/group_norm/gamma\"\n",
    "                ]\n",
    "            )\n",
    "        )\n",
    "        var_name = (\n",
    "            f\"resnet/block{block_nr}/unit{unit_nr + 1:02d}/c/standardized_conv2d/kernel\"\n",
    "        )\n",
    "        if var_name in params_tf:\n",
    "            model.layers[block_nr].layers[unit_nr]._unit_c.layers[-1].kernel.assign(\n",
    "                tf.Variable(params_tf[var_name])\n",
    "            )"
   ]
  },
  {
   "cell_type": "code",
   "execution_count": null,
   "metadata": {
    "colab": {
     "base_uri": "https://localhost:8080/"
    },
    "id": "oniPOxhlmuAn",
    "outputId": "44027624-fa17-4a6b-8081-0311a184dc28"
   },
   "outputs": [
    {
     "data": {
      "text/plain": [
       "<tf.Variable 'UnreadVariable' shape=(1000,) dtype=float32, numpy=array([7.7493743e-05, ..., 8.2581966e-05], dtype=float32)>"
      ]
     },
     "execution_count": 5,
     "metadata": {},
     "output_type": "execute_result"
    }
   ],
   "source": [
    "# Set the variables not included in the blocks.\n",
    "model.layers[0].layers[1].kernel.assign(\n",
    "    tf.Variable(params_tf[\"resnet/root_block/standardized_conv2d/kernel\"])\n",
    ")\n",
    "\n",
    "model.layers[5]._gamma.assign(tf.Variable(params_tf[\"resnet/group_norm/gamma\"]))\n",
    "model.layers[5]._beta.assign(tf.Variable(params_tf[\"resnet/group_norm/beta\"]))\n",
    "\n",
    "model.layers[-1].kernel.assign(\n",
    "    tf.Variable(params_tf[\"resnet/head/conv2d/kernel\"].reshape(4096, 1000))\n",
    ")\n",
    "model.layers[-1].bias.assign(tf.Variable(params_tf[\"resnet/head/conv2d/bias\"]))"
   ]
  },
  {
   "cell_type": "code",
   "execution_count": null,
   "metadata": {
    "id": "EEDWeTZ5m0vX"
   },
   "outputs": [],
   "source": [
    "# Verify that it works.\n",
    "logits = model.predict(image)\n",
    "s = tf.nn.softmax(logits, 1)\n",
    "assert (\n",
    "    imagenet_int_to_str[tf.argmax(s, -1).numpy()[0]]\n",
    "    == \"Indian_elephant, Elephas_maximus\"\n",
    ")"
   ]
  }
 ],
 "metadata": {
  "colab": {
   "collapsed_sections": [],
   "include_colab_link": true,
   "name": "convert_jax_weights_tf",
   "provenance": []
  },
  "kernelspec": {
   "display_name": "Python 3 (ipykernel)",
   "language": "python",
   "name": "python3"
  },
  "language_info": {
   "codemirror_mode": {
    "name": "ipython",
    "version": 3
   },
   "file_extension": ".py",
   "mimetype": "text/x-python",
   "name": "python",
   "nbconvert_exporter": "python",
   "pygments_lexer": "ipython3",
   "version": "3.8.2"
  }
 },
 "nbformat": 4,
 "nbformat_minor": 1
}
